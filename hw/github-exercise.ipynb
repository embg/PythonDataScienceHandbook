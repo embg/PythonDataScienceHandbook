{
  "nbformat": 4,
  "nbformat_minor": 0,
  "metadata": {
    "colab": {
      "name": "github.ipynb",
      "version": "0.3.2",
      "provenance": []
    },
    "kernelspec": {
      "display_name": "Python 3",
      "language": "python",
      "name": "python3"
    }
  },
  "cells": [
    {
      "metadata": {
        "slideshow": {
          "slide_type": "slide"
        },
        "id": "9A8rjQpVsJdi",
        "colab_type": "text"
      },
      "cell_type": "markdown",
      "source": [
        "# GitHub: What do we people talk about, when they talk about it?"
      ]
    },
    {
      "metadata": {
        "slideshow": {
          "slide_type": "fragment"
        },
        "id": "2Xt4ECgWsJdp",
        "colab_type": "text"
      },
      "cell_type": "markdown",
      "source": [
        "![github](https://studyguide.itu.dk/~/media/studyguide/student-life/facilities-at-itu/it-facilities/github/github_logo.png?h=248&w=573&la=en)"
      ]
    },
    {
      "metadata": {
        "slideshow": {
          "slide_type": "slide"
        },
        "id": "hDyaQosOsJdq",
        "colab_type": "code",
        "colab": {},
        "outputId": "42465b1d-ca9f-4009-91af-2756f2ee030d"
      },
      "cell_type": "code",
      "source": [
        "from IPython.display import YouTubeVideo\n",
        "YouTubeVideo(\"ASELrVgtPmM?t=41\")"
      ],
      "execution_count": 0,
      "outputs": [
        {
          "output_type": "execute_result",
          "data": {
            "text/html": [
              "\n",
              "        <iframe\n",
              "            width=\"400\"\n",
              "            height=\"300\"\n",
              "            src=\"https://www.youtube.com/embed/ASELrVgtPmM?t=41\"\n",
              "            frameborder=\"0\"\n",
              "            allowfullscreen\n",
              "        ></iframe>\n",
              "        "
            ],
            "text/plain": [
              "<IPython.lib.display.YouTubeVideo at 0x7f045d91d668>"
            ]
          },
          "metadata": {
            "tags": []
          },
          "execution_count": 7
        }
      ]
    },
    {
      "metadata": {
        "slideshow": {
          "slide_type": "slide"
        },
        "id": "xWsm7l-XsJd0",
        "colab_type": "text"
      },
      "cell_type": "markdown",
      "source": [
        "## Branches and commits"
      ]
    },
    {
      "metadata": {
        "slideshow": {
          "slide_type": "fragment"
        },
        "id": "Ta_XnHtCsJd2",
        "colab_type": "text"
      },
      "cell_type": "markdown",
      "source": [
        "![branches](https://cdn-images-1.medium.com/max/1600/1*5fzIWE84xzQUAcmVMJ4Ouw.png)"
      ]
    },
    {
      "metadata": {
        "slideshow": {
          "slide_type": "slide"
        },
        "id": "b4XmNyKXsJd2",
        "colab_type": "text"
      },
      "cell_type": "markdown",
      "source": [
        "### Download GitHub desktop: https://desktop.github.com/\n",
        "### (or use the command line)"
      ]
    },
    {
      "metadata": {
        "slideshow": {
          "slide_type": "fragment"
        },
        "id": "tQ9OhCE9sJd6",
        "colab_type": "text"
      },
      "cell_type": "markdown",
      "source": [
        "## Quick GitHub in-class exercise "
      ]
    }
  ]
}